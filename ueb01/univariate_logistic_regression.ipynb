{
 "cells": [
  {
   "cell_type": "markdown",
   "metadata": {},
   "source": [
    "# Logitische Regression (50 Punkte)"
   ]
  },
  {
   "cell_type": "markdown",
   "metadata": {},
   "source": [
    "Ihre Aufgabe in diesem Notebook ist die Umsetzung einer **univariate** logistische Regression, d.h. folgendes Modell:\n",
    "\n",
    "$$ Input: \\vec{x}^T = (x_1, x_2, ... , x_n) $$ \n",
    "$$ Output\\: h\\: des\\: Neurons: h = \\sigma(\\sum_{i=1}^{n} w_i x_i + b) = \\sigma( \\vec{x}^T \\vec{w} + b)$$ \n",
    "$$ Logistische\\: Funktion: \\sigma(z) = \\dfrac{1}{(1+e^{-z})}$$\n",
    "$$ Neuronengewichte: w_i$$\n",
    "$$ Bias: b$$\n",
    "\n",
    "Erweitern Sie das Notebook unter folgenden Aspekten: \n",
    "- (15) Implementieren Sie das Modell mit Tensorflow und den gegebenen Daten.\n",
    "- (25) Optimieren Sie die Kosten (cross-entropy und L2-Regularisierung) mit Tensorflow, verwenden Sie hierzu den tf.train.GradientDescentOptimizer. \n",
    "$$ J(\\vec{w},b) = - \\dfrac{1}{m}(y log(h_{\\vec{w}, b}(\\vec{x}) + (1 - y) log ( 1 - h_{\\vec{w}, b} (\\vec{x} )) + \\lambda \\sum_i w_i^2 $$\n",
    "Zeichen Sie einen Plot des den Fortschittes (Abnahme der Kosten über den Iterationen).\n",
    "\n",
    "<img src=\"ak1163051/pics/logreg_learning_rate.png\", width=400>\n",
    "\n",
    "- (5) Geben Sie die gefundenen Parameter aus (einfaches print)\n",
    "- (5) Zeichen Sie die Daten zusammen mit der Entscheidungsgrenze.\n",
    "\n",
    "<img src=\"ak1163051/pics/logreg_decision_boundary.png\", width=400>"
   ]
  },
  {
   "cell_type": "code",
   "execution_count": 1,
   "metadata": {},
   "outputs": [
    {
     "name": "stderr",
     "output_type": "stream",
     "text": [
      "/Users/philipp/.virtualenvs/venv/lib/python3.6/importlib/_bootstrap.py:219: RuntimeWarning: compiletime version 3.5 of module 'tensorflow.python.framework.fast_tensor_util' does not match runtime version 3.6\n",
      "  return f(*args, **kwds)\n"
     ]
    },
    {
     "data": {
      "image/png": "[encoded data removed]",
      "text/plain": [
       "<matplotlib.figure.Figure at 0x108e179b0>"
      ]
     },
     "metadata": {},
     "output_type": "display_data"
    }
   ],
   "source": [
    "# imports\n",
    "import numpy as np\n",
    "import matplotlib.pyplot as plt\n",
    "import tensorflow as tf\n",
    "\n",
    "# class 0:\n",
    "# covariance matrix and mean\n",
    "cov0 = np.array([[5,-4],[-4,4]])\n",
    "mean0 = np.array([2.,3])\n",
    "# number of data points\n",
    "m0 = 100\n",
    "\n",
    "# class 1\n",
    "# covariance matrix\n",
    "cov1 = np.array([[5,-3],[-3,3]])\n",
    "mean1 = np.array([1.,1])\n",
    "m1 = 100\n",
    "# generate m0 gaussian distributed data points with\n",
    "# mean0 and cov0.\n",
    "r0 = np.random.multivariate_normal(mean0, cov0, m0)\n",
    "r1 = np.random.multivariate_normal(mean1, cov1, m1)\n",
    "t0 = np.random.multivariate_normal(mean0, cov0, m0)\n",
    "t1 = np.random.multivariate_normal(mean1, cov1, m1)\n",
    "\n",
    "\n",
    "def plot_data(r0, r1):\n",
    "    plt.figure(figsize=(7.,7.))\n",
    "    plt.scatter(r0[...,0], r0[...,1], c='b', marker='o', label=\"Klasse 0\")\n",
    "    plt.scatter(r1[...,0], r1[...,1], c='r', marker='x', label=\"Klasse 1\")\n",
    "    plt.xlabel(\"$x_0$\")\n",
    "    plt.ylabel(\"$x_1$\")\n",
    "    plt.show()\n",
    "    \n",
    "plot_data(r0,r1)    "
   ]
  },
  {
   "cell_type": "markdown",
   "metadata": {},
   "source": [
    "## Initialisierung (Input, Labels)"
   ]
  },
  {
   "cell_type": "code",
   "execution_count": 2,
   "metadata": {},
   "outputs": [
    {
     "name": "stdout",
     "output_type": "stream",
     "text": [
      "(200, 2)\n",
      "(200, 1)\n"
     ]
    }
   ],
   "source": [
    "# input values\n",
    "x_inputs = np.concatenate((r0, r1))\n",
    "print(x_inputs.shape)\n",
    "# labels\n",
    "y_labels = np.concatenate((np.zeros(m0), np.ones(m1)))\n",
    "y_labels = np.reshape(y_labels,(200,1))\n",
    "# training\n",
    "t_inputs = np.concatenate((t0, t1))\n",
    "print(y_labels.shape)"
   ]
  },
  {
   "cell_type": "markdown",
   "metadata": {},
   "source": [
    "## Variables, Placeholders"
   ]
  },
  {
   "cell_type": "code",
   "execution_count": 3,
   "metadata": {},
   "outputs": [],
   "source": [
    "# x (train data)\n",
    "x = tf.placeholder(tf.float32, shape=x_inputs.shape)\n",
    "\n",
    "# x (train labels)\n",
    "y = tf.placeholder(tf.float32, shape=y_labels.shape)\n",
    "\n",
    "# weights\n",
    "weights = tf.Variable([[0.1],[0.1]], name=\"weights\")\n",
    "\n",
    "# bias\n",
    "bias = tf.Variable(0.1, name=\"bias\")\n",
    "\n",
    "# lambda\n",
    "regularisation_parameter = tf.constant(0.1, name=\"lambda\")"
   ]
  },
  {
   "cell_type": "markdown",
   "metadata": {},
   "source": [
    "## Functions"
   ]
  },
  {
   "cell_type": "markdown",
   "metadata": {},
   "source": [
    "$$ Output\\: h\\: des\\: Neurons: h = \\sigma(\\sum_{i=1}^{n} w_i x_i + b) = \\sigma( \\vec{x}^T \\vec{w} + b)$$ \n",
    "$$ Logistische\\: Funktion: \\sigma(z) = \\dfrac{1}{(1+e^{-z})}$$"
   ]
  },
  {
   "cell_type": "code",
   "execution_count": 4,
   "metadata": {},
   "outputs": [],
   "source": [
    "# z function (inside of sigmoid)\n",
    "z = tf.matmul(x, weights) + bias\n",
    "\n",
    "# h function (sigmoid of h)\n",
    "h = tf.sigmoid(z)"
   ]
  },
  {
   "cell_type": "markdown",
   "metadata": {},
   "source": [
    "### Loss Function\n",
    "\n",
    "$$ J(\\vec{w},b) = - \\dfrac{1}{m}(y log(h_{\\vec{w}, b}(\\vec{x}) + (1 - y) log ( 1 - h_{\\vec{w}, b} (\\vec{x} )) + \\lambda \\sum_i w_i^2 $$"
   ]
  },
  {
   "cell_type": "code",
   "execution_count": 5,
   "metadata": {},
   "outputs": [],
   "source": [
    "# e function (error / loss / cost function)\n",
    "e = tf.losses.sigmoid_cross_entropy(y, z)\n",
    "\n",
    "# λ∑w^2_i\n",
    "regularization = regularisation_parameter * tf.reduce_sum(tf.square(weights))\n",
    "\n",
    "# J(w->,b)\n",
    "loss = e + regularization\n",
    "\n",
    "# gradient decent opimizer\n",
    "opt = tf.train.GradientDescentOptimizer(learning_rate=0.1)\n",
    "opt_op = opt.minimize(loss, var_list=[weights, bias])"
   ]
  },
  {
   "cell_type": "markdown",
   "metadata": {},
   "source": [
    "## Computation"
   ]
  },
  {
   "cell_type": "code",
   "execution_count": 6,
   "metadata": {},
   "outputs": [],
   "source": [
    "def print_variables(session, epoch, result_loss):\n",
    "    w = session.run(weights)\n",
    "    b = session.run(bias)\n",
    "    print(\"{}.Epoche: Weights: {}, Bias: {}, Loss: {}\".format(epoch, w.T, b, result_loss))"
   ]
  },
  {
   "cell_type": "code",
   "execution_count": 7,
   "metadata": {
    "scrolled": false
   },
   "outputs": [
    {
     "name": "stdout",
     "output_type": "stream",
     "text": [
      "0.Epoche: Weights: [[ 0.1  0.1]], Bias: 0.10000000149011612, Loss: 0.8068037629127502\n",
      "1.Epoche: Weights: [[ 0.04230331  0.02350412]], Bias: 0.08900407701730728, Loss: 0.7243778705596924\n",
      "2.Epoche: Weights: [[-0.32821852 -0.45565042]], Bias: 1.067300796508789, Loss: 0.4882652163505554\n",
      "3.Epoche: Weights: [[-0.43030286 -0.58212912]], Bias: 1.623999834060669, Loss: 0.4537431299686432\n",
      "4.Epoche: Weights: [[-0.48844352 -0.65371931]], Bias: 1.9407973289489746, Loss: 0.44262927770614624\n",
      "5.Epoche: Weights: [[-0.52315563 -0.69628811]], Bias: 2.1301472187042236, Loss: 0.43867218494415283\n",
      "6.Epoche: Weights: [[-0.54446298 -0.72235292]], Bias: 2.2465131282806396, Loss: 0.4371805787086487\n",
      "7.Epoche: Weights: [[-0.55776107 -0.73859513]], Bias: 2.319204330444336, Loss: 0.4365991950035095\n",
      "8.Epoche: Weights: [[-0.56614512 -0.74882549]], Bias: 2.365062952041626, Loss: 0.4363679587841034\n",
      "9.Epoche: Weights: [[-0.57146448 -0.75531232]], Bias: 2.3941705226898193, Loss: 0.43627482652664185\n",
      "10.Epoche: Weights: [[-0.574853   -0.75944304]], Bias: 2.4127182960510254, Loss: 0.436237096786499\n"
     ]
    }
   ],
   "source": [
    "with tf.Session() as session:\n",
    "    session.run(tf.global_variables_initializer())\n",
    "    #result_h = session.run(h, feed_dict={x: x_inputs})\n",
    "    #result_e = session.run(e, feed_dict={x: x_inputs, y: y_labels})\n",
    "    #result_reg = session.run(regularization)\n",
    "\n",
    "    losses = []\n",
    "    epoch = 0\n",
    "    result_loss = session.run(loss, feed_dict={x: x_inputs, y: y_labels})\n",
    "    print_variables(session, epoch, result_loss)\n",
    "    for i in range(1000):\n",
    "        opt_op.run(feed_dict={x: x_inputs, y: y_labels})\n",
    "        result_loss = session.run(loss, feed_dict={x: x_inputs, y: y_labels})\n",
    "        losses.append(result_loss)\n",
    "        if (i % 100 == 0):\n",
    "            epoch+=1\n",
    "            print_variables(session, epoch, result_loss)\n",
    "    \n",
    "    w = session.run(weights)\n",
    "    b = session.run(bias)"
   ]
  },
  {
   "cell_type": "markdown",
   "metadata": {},
   "source": [
    "## Visualisierung Loss"
   ]
  },
  {
   "cell_type": "code",
   "execution_count": 8,
   "metadata": {},
   "outputs": [
    {
     "data": {
      "image/png": "[encoded data removed]",
      "text/plain": [
       "<matplotlib.figure.Figure at 0x114e2eb70>"
      ]
     },
     "metadata": {},
     "output_type": "display_data"
    }
   ],
   "source": [
    "plt.plot(losses)\n",
    "plt.ylabel('loss value')\n",
    "plt.xlabel('iterations')\n",
    "plt.show()"
   ]
  },
  {
   "cell_type": "code",
   "execution_count": 9,
   "metadata": {},
   "outputs": [
    {
     "data": {
      "image/png": "[encoded data removed]",
      "text/plain": [
       "<matplotlib.figure.Figure at 0x114e810f0>"
      ]
     },
     "metadata": {},
     "output_type": "display_data"
    }
   ],
   "source": [
    "# initial equation inside sigmoid adjusted\n",
    "# x_0 * w_0 + x_1 * w_1 + b\n",
    "# after adjustment:\n",
    "# x_1 = ((-x_0) * w_0 - b)/w_1\n",
    "def calc_x1(x_0, w, b):\n",
    "    return ((-x_0)*w[0]-b)/w[1]\n",
    "\n",
    "plt.figure(figsize=(7.,7.))\n",
    "plt.scatter(r0[...,0], r0[...,1], c='b', marker='o', label=\"Klasse 0\")\n",
    "plt.scatter(r1[...,0], r1[...,1], c='r', marker='x', label=\"Klasse 1\")\n",
    "x0 = (-6, 10) # lowest x, highest x\n",
    "x1 = (calc_x1(x0[0], w, b), calc_x1(x0[1], w, b))\n",
    "plt.plot(x0,x1)\n",
    "plt.xlabel(\"$x_0$\")\n",
    "plt.ylabel(\"$x_1$\")\n",
    "plt.show()"
   ]
  },
  {
   "cell_type": "code",
   "execution_count": 10,
   "metadata": {},
   "outputs": [],
   "source": [
    "# reinitialize variables/functions\n",
    "\n",
    "# weights\n",
    "weights = tf.Variable(w, name=\"weights\")\n",
    "\n",
    "# bias\n",
    "bias = tf.Variable(b, name=\"bias\")\n",
    "\n",
    "#z function (inside of sigmoid)\n",
    "z = tf.matmul(x, weights) + bias\n",
    "\n",
    "# h function (sigmoid of h)\n",
    "h = tf.sigmoid(z)"
   ]
  },
  {
   "cell_type": "markdown",
   "metadata": {},
   "source": [
    "## Evaluation"
   ]
  },
  {
   "cell_type": "code",
   "execution_count": 11,
   "metadata": {},
   "outputs": [
    {
     "data": {
      "image/png": "[encoded data removed]",
      "text/plain": [
       "<matplotlib.figure.Figure at 0x114f219e8>"
      ]
     },
     "metadata": {},
     "output_type": "display_data"
    }
   ],
   "source": [
    "# plot test data\n",
    "plot_data(t0,t1)"
   ]
  },
  {
   "cell_type": "code",
   "execution_count": 12,
   "metadata": {
    "scrolled": false
   },
   "outputs": [
    {
     "name": "stdout",
     "output_type": "stream",
     "text": [
      "accuracy of prediction 0.915\n"
     ]
    }
   ],
   "source": [
    "with tf.Session() as session:\n",
    "    session.run(tf.global_variables_initializer())\n",
    "    w = session.run(weights)\n",
    "    b = session.run(bias)\n",
    "\n",
    "    result = session.run(h, feed_dict={x: t_inputs})\n",
    "    \n",
    "    result = [int(item > 0.5) for item in result]\n",
    "    result = [int(pred == label) for pred, label in zip(result, y_labels)]\n",
    "    #print(\"Output of neurons: \", result)\n",
    "    result = np.sum(result) / len(result)\n",
    "    print(\"accuracy of prediction\",result)"
   ]
  }
 ],
 "metadata": {
  "anaconda-cloud": {},
  "kernelspec": {
   "display_name": "Python 3",
   "language": "python",
   "name": "python3"
  },
  "language_info": {
   "codemirror_mode": {
    "name": "ipython",
    "version": 3
   },
   "file_extension": ".py",
   "mimetype": "text/x-python",
   "name": "python",
   "nbconvert_exporter": "python",
   "pygments_lexer": "ipython3",
   "version": "3.6.3"
  }
 },
 "nbformat": 4,
 "nbformat_minor": 1
}
