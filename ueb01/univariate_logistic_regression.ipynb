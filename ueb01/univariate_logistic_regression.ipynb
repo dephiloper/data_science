{
 "cells": [
  {
   "cell_type": "markdown",
   "metadata": {},
   "source": [
    "# Logitische Regression (50 Punkte)"
   ]
  },
  {
   "cell_type": "markdown",
   "metadata": {},
   "source": [
    "Ihre Aufgabe in diesem Notebook ist die Umsetzung einer **univariate** logistische Regression, d.h. folgendes Modell:\n",
    "\n",
    "$$ Input: \\vec{x}^T = (x_1, x_2, ... , x_n) $$ \n",
    "$$ Output\\: h\\: des\\: Neurons: h = \\sigma(\\sum_{i=1}^{n} w_i x_i + b) = \\sigma( \\vec{x}^T \\vec{w} + b)$$ \n",
    "$$ Logistische\\: Funktion: \\sigma(z) = \\dfrac{1}{(1+e^{-z})}$$\n",
    "$$ Neuronengewichte: w_i$$\n",
    "$$ Bias: b$$\n",
    "\n",
    "Erweitern Sie das Notebook unter folgenden Aspekten: \n",
    "- (15) Implementieren Sie das Modell mit Tensorflow und den gegebenen Daten.\n",
    "- (25) Optimieren Sie die Kosten (cross-entropy und L2-Regularisierung) mit Tensorflow, verwenden Sie hierzu den tf.train.GradientDescentOptimizer. \n",
    "$$ J(\\vec{w},b) = - \\dfrac{1}{m}(y log(h_{\\vec{w}, b}(\\vec{x}) + (1 - y) log ( 1 - h_{\\vec{w}, b} (\\vec{x} )) + \\lambda \\sum_i w_i^2 $$\n",
    "Zeichen Sie einen Plot des den Fortschittes (Abnahme der Kosten über den Iterationen).\n",
    "\n",
    "<img src=\"ak1163051/pics/logreg_learning_rate.png\", width=400>\n",
    "\n",
    "- (5) Geben Sie die gefundenen Parameter aus (einfaches print)\n",
    "- (5) Zeichen Sie die Daten zusammen mit der Entscheidungsgrenze.\n",
    "\n",
    "<img src=\"ak1163051/pics/logreg_decision_boundary.png\", width=400>"
   ]
  },
  {
   "cell_type": "code",
   "execution_count": 1,
   "metadata": {},
   "outputs": [
    {
     "data": {
      "image/png": "[encoded data removed]",
      "text/plain": [
       "<matplotlib.figure.Figure at 0x7fd0744a5128>"
      ]
     },
     "metadata": {},
     "output_type": "display_data"
    }
   ],
   "source": [
    "# imports\n",
    "import numpy as np\n",
    "import matplotlib.pyplot as plt\n",
    "\n",
    "# class 0:\n",
    "# covariance matrix and mean\n",
    "cov0 = np.array([[5,-4],[-4,4]])\n",
    "mean0 = np.array([2.,3])\n",
    "# number of data points\n",
    "m0 = 100\n",
    "\n",
    "# class 1\n",
    "# covariance matrix\n",
    "cov1 = np.array([[5,-3],[-3,3]])\n",
    "mean1 = np.array([1.,1])\n",
    "m1 = 100\n",
    "\n",
    "# generate m0 gaussian distributed data points with\n",
    "# mean0 and cov0.\n",
    "r0 = np.random.multivariate_normal(mean0, cov0, m0)\n",
    "r1 = np.random.multivariate_normal(mean1, cov1, m1)\n",
    "\n",
    "def plot_data(r0, r1):\n",
    "    plt.figure(figsize=(7.,7.))\n",
    "    plt.scatter(r0[...,0], r0[...,1], c='b', marker='o', label=\"Klasse 0\")\n",
    "    plt.scatter(r1[...,0], r1[...,1], c='r', marker='x', label=\"Klasse 1\")\n",
    "    plt.xlabel(\"$x_0$\")\n",
    "    plt.ylabel(\"$x_1$\")\n",
    "    plt.show()\n",
    "    \n",
    "plot_data(r0,r1)    "
   ]
  }
 ],
 "metadata": {
  "anaconda-cloud": {},
  "kernelspec": {
   "display_name": "Python 3",
   "language": "python",
   "name": "python3"
  },
  "language_info": {
   "codemirror_mode": {
    "name": "ipython",
    "version": 3
   },
   "file_extension": ".py",
   "mimetype": "text/x-python",
   "name": "python",
   "nbconvert_exporter": "python",
   "pygments_lexer": "ipython3",
   "version": "3.6.3"
  }
 },
 "nbformat": 4,
 "nbformat_minor": 1
}
