{
 "cells": [
  {
   "cell_type": "markdown",
   "metadata": {},
   "source": [
    "# Übung Lineare Algebra (10 Punkte)\n",
    "\n",
    "Diese kleine Übung soll die grundlegenden arithmetischen Opertationen auf Vektoren und Matrizen wiederholen. Bitte implementieren Sie die notwendigen Methoden in der Datei _ak1163051/lineare_algebra.py_ auf Basis von Listen und verifizieren Sie ihre Implementierungen mit der entsprechenden _numpy_-Operation, sofern dies möglich ist im Notebook. Ein Beispiel für die Notebook imple\n"
   ]
  },
  {
   "cell_type": "code",
   "execution_count": 1,
   "metadata": {},
   "outputs": [
    {
     "ename": "ModuleNotFoundError",
     "evalue": "No module named 'numpy'",
     "output_type": "error",
     "traceback": [
      "\u001b[0;31m---------------------------------------------------------------------------\u001b[0m",
      "\u001b[0;31mModuleNotFoundError\u001b[0m                       Traceback (most recent call last)",
      "\u001b[0;32m<ipython-input-1-1ee3acd28791>\u001b[0m in \u001b[0;36m<module>\u001b[0;34m()\u001b[0m\n\u001b[1;32m      1\u001b[0m \u001b[0;31m# Initialization of basic modules and global parameters...\u001b[0m\u001b[0;34m\u001b[0m\u001b[0;34m\u001b[0m\u001b[0m\n\u001b[0;32m----> 2\u001b[0;31m \u001b[0;32mfrom\u001b[0m \u001b[0mak1163051\u001b[0m\u001b[0;34m.\u001b[0m\u001b[0mlineare_algebra\u001b[0m \u001b[0;32mimport\u001b[0m \u001b[0;34m*\u001b[0m\u001b[0;34m\u001b[0m\u001b[0m\n\u001b[0m\u001b[1;32m      3\u001b[0m \u001b[0;32mimport\u001b[0m \u001b[0mnumpy\u001b[0m \u001b[0;32mas\u001b[0m \u001b[0mnp\u001b[0m\u001b[0;34m\u001b[0m\u001b[0m\n\u001b[1;32m      4\u001b[0m \u001b[0;32mimport\u001b[0m \u001b[0mrandom\u001b[0m\u001b[0;34m\u001b[0m\u001b[0m\n\u001b[1;32m      5\u001b[0m \u001b[0;34m\u001b[0m\u001b[0m\n",
      "\u001b[0;32m~/Development/data_science/ueb01/ak1163051/__init__.py\u001b[0m in \u001b[0;36m<module>\u001b[0;34m()\u001b[0m\n\u001b[0;32m----> 1\u001b[0;31m \u001b[0;32mfrom\u001b[0m \u001b[0mak1163051\u001b[0m\u001b[0;34m.\u001b[0m\u001b[0mk_nearest_neighbor\u001b[0m \u001b[0;32mimport\u001b[0m \u001b[0;34m*\u001b[0m\u001b[0;34m\u001b[0m\u001b[0m\n\u001b[0m",
      "\u001b[0;32m~/Development/data_science/ueb01/ak1163051/k_nearest_neighbor.py\u001b[0m in \u001b[0;36m<module>\u001b[0;34m()\u001b[0m\n\u001b[0;32m----> 1\u001b[0;31m \u001b[0;32mimport\u001b[0m \u001b[0mnumpy\u001b[0m \u001b[0;32mas\u001b[0m \u001b[0mnp\u001b[0m\u001b[0;34m\u001b[0m\u001b[0m\n\u001b[0m\u001b[1;32m      2\u001b[0m \u001b[0;34m\u001b[0m\u001b[0m\n\u001b[1;32m      3\u001b[0m \u001b[0;32mclass\u001b[0m \u001b[0mKNearestNeighbor\u001b[0m\u001b[0;34m(\u001b[0m\u001b[0mobject\u001b[0m\u001b[0;34m)\u001b[0m\u001b[0;34m:\u001b[0m\u001b[0;34m\u001b[0m\u001b[0m\n\u001b[1;32m      4\u001b[0m     \u001b[0;34m\"\"\" a kNN classifier with Euclidean distance \"\"\"\u001b[0m\u001b[0;34m\u001b[0m\u001b[0m\n\u001b[1;32m      5\u001b[0m \u001b[0;34m\u001b[0m\u001b[0m\n",
      "\u001b[0;31mModuleNotFoundError\u001b[0m: No module named 'numpy'"
     ]
    }
   ],
   "source": [
    "# Initialization of basic modules and global parameters... \n",
    "from ak1163051.lineare_algebra import * \n",
    "import numpy as np\n",
    "import random\n",
    "\n",
    "# create vectors a and b with 10 digits between 0-255\n",
    "vec_a = random.sample(range(255), 10)\n",
    "vec_b = random.sample(range(255), 10)\n",
    "\n",
    "print (\"Vektor a: \", vec_a)\n",
    "print (\"Vektor b: \", vec_b)"
   ]
  },
  {
   "cell_type": "markdown",
   "metadata": {},
   "source": [
    "## Addition und Subtraktion von Vektoren\n",
    "\n",
    "Berechnen Sie Betrag und Differenz von Vektoren nach folgendem Prinzip:\n",
    "\n",
    "<img src=\"ak1163051/pics/add_vector.svg\", width=250>\n",
    "\n",
    "<img src=\"ak1163051/pics/sub_vector.svg\", width=250>"
   ]
  },
  {
   "cell_type": "code",
   "execution_count": 2,
   "metadata": {},
   "outputs": [
    {
     "name": "stdout",
     "output_type": "stream",
     "text": [
      "('Result of vector addition:', [363, 278, 156, 252, 301, 227, 390, 411, 95, 218])\n",
      "('Are the operations arithmetically equal?', True)\n",
      "('Result of vector subtraction:', [7, 102, 16, 96, -187, -105, 16, 61, 39, 4])\n",
      "('Are the operations arithmetically equal?', True)\n"
     ]
    }
   ],
   "source": [
    "# addition\n",
    "add_result = vector_add(vec_a,vec_b)\n",
    "print (\"Result of vector addition:\", add_result)\n",
    "print (\"Are the operations arithmetically equal?\", np.array_equal(add_result, np.add(vec_a,vec_b)))\n",
    "\n",
    "# subtraction - please implement the methode in lineare_algebra.py \n",
    "sub_result = vector_sub(vec_a,vec_b)\n",
    "print (\"Result of vector subtraction:\", sub_result)\n",
    "print (\"Are the operations arithmetically equal?\", np.array_equal(sub_result, np.subtract(vec_a,vec_b)))"
   ]
  },
  {
   "cell_type": "markdown",
   "metadata": {
    "collapsed": true
   },
   "source": [
    "## Multiplikation von Vektoren mit einem Skalar (0,5 Punkt)\n",
    "\n",
    "Berechenen Sie die Multiplikation von einem Skalar und einem Vektoren nach folgendem Prinzip:\n",
    "\n",
    "<img src=\"ak1163051/pics/scalar_vector.svg\", width=200>"
   ]
  },
  {
   "cell_type": "code",
   "execution_count": 3,
   "metadata": {},
   "outputs": [
    {
     "name": "stdout",
     "output_type": "stream",
     "text": [
      "('Result of vector multiplication:', [925, 950, 430, 870, 285, 305, 1015, 1180, 335, 555])\n",
      "('Are the operations arithmetically equal?', True)\n"
     ]
    }
   ],
   "source": [
    "# multiplication\n",
    "scalar = 5\n",
    "multiply_result = vector_scalar_mul(scalar,vec_a)\n",
    "print (\"Result of vector multiplication:\", multiply_result)\n",
    "print (\"Are the operations arithmetically equal?\", np.array_equal(multiply_result, np.multiply(scalar,vec_a)))"
   ]
  },
  {
   "cell_type": "markdown",
   "metadata": {
    "collapsed": true
   },
   "source": [
    "## Skalarprodukt (dot product) von Vektoren (1 Punkte)\n",
    "\n",
    "Berechnen Sie das Skalarprodukt von zwei Vektoren nach folgendem Prinzip:\n",
    "\n",
    "<img src=\"ak1163051/pics/inner_product_vector.svg\", width=400>"
   ]
  },
  {
   "cell_type": "code",
   "execution_count": 4,
   "metadata": {},
   "outputs": [
    {
     "name": "stdout",
     "output_type": "stream",
     "text": [
      "('Result of dot product:', 186290)\n",
      "('Are the operations arithmetically equal?', True)\n"
     ]
    }
   ],
   "source": [
    "# dot product \n",
    "dot_result = vector_dot(vec_a,vec_b)\n",
    "print (\"Result of dot product:\", dot_result)\n",
    "print (\"Are the operations arithmetically equal?\", np.array_equal(dot_result, np.dot(vec_a,vec_b)))"
   ]
  },
  {
   "cell_type": "markdown",
   "metadata": {},
   "source": [
    "## Erzeugen eine Matrix (1 Punkte)\n",
    "Erzuegen Sie mit Hilfe einer Methode eine Matrix mit der Dimension 10x10 von Zufallswerten zwischen 0 und 255."
   ]
  },
  {
   "cell_type": "code",
   "execution_count": 5,
   "metadata": {},
   "outputs": [
    {
     "name": "stdout",
     "output_type": "stream",
     "text": [
      "('Matrix A: ', [[45, 98, 81, 26, 174, 96, 75, 11, 181, 46], [54, 82, 143, 14, 31, 31, 17, 176, 129, 188], [70, 110, 255, 173, 211, 72, 8, 172, 143, 90], [35, 52, 139, 99, 220, 62, 124, 136, 109, 140], [202, 143, 187, 56, 227, 160, 181, 59, 244, 196], [50, 156, 22, 97, 254, 253, 228, 35, 214, 27], [52, 211, 228, 47, 164, 161, 135, 147, 94, 55], [171, 215, 159, 24, 187, 85, 164, 87, 46, 97], [241, 151, 242, 30, 43, 209, 254, 105, 70, 229], [42, 108, 53, 89, 211, 198, 35, 24, 222, 34]])\n",
      "10\n"
     ]
    }
   ],
   "source": [
    "mat_A = create_random_matrix(10,10)\n",
    "print (\"Matrix A: \", mat_A)\n",
    "print (len(mat_A[0]))"
   ]
  },
  {
   "cell_type": "markdown",
   "metadata": {},
   "source": [
    "## Vektor-Matrix-Multiplikation (1 Punkte)\n",
    "\n",
    "Berechnen Sie das Produkt aus Vektor a und Matrix A nach folgendem Prinzip:\n",
    "\n",
    "<img src=\"ak1163051/pics/mult_vector_matrix.svg\", width=400>\n",
    "\n",
    "Merken Sie sich, dass die Dimensionen hierfür eine Vorraussetzung bilden.\n",
    "\n",
    "<img src=\"ak1163051/pics/mult_vector_matrix_dim.png\", width=300>"
   ]
  },
  {
   "cell_type": "code",
   "execution_count": 6,
   "metadata": {},
   "outputs": [
    {
     "name": "stdout",
     "output_type": "stream",
     "text": [
      "('Result of vector matrix multiplication:', [89263, 118460, 164088, 141968, 201836, 159450, 171165, 173852, 220958, 103856])\n",
      "('Are the operations arithmetically equal?', True)\n"
     ]
    }
   ],
   "source": [
    "# vector matrix multiplication\n",
    "vec_mat_mul_result = matrix_vector_mul(mat_A,vec_a)\n",
    "print (\"Result of vector matrix multiplication:\", vec_mat_mul_result)\n",
    "print (\"Are the operations arithmetically equal?\", np.array_equal(vec_mat_mul_result, np.dot(mat_A,vec_a)))"
   ]
  },
  {
   "cell_type": "markdown",
   "metadata": {},
   "source": [
    "## Transponente einer Matrix (1 Punkte)\n",
    "\n",
    "Manipulieren Sie die Matrix A, sodass die Transponente entsteht, siehe:\n",
    "    \n",
    "<img src=\"ak1163051/pics/trans_matrix_01.svg\", width=250>    \n",
    "<img src=\"ak1163051/pics/trans_matrix_02.svg\", width=250>    "
   ]
  },
  {
   "cell_type": "code",
   "execution_count": 7,
   "metadata": {},
   "outputs": [
    {
     "name": "stdout",
     "output_type": "stream",
     "text": [
      "('Result of matrix transpose:', [[45, 54, 70, 35, 202, 50, 52, 171, 241, 42], [98, 82, 110, 52, 143, 156, 211, 215, 151, 108], [81, 143, 255, 139, 187, 22, 228, 159, 242, 53], [26, 14, 173, 99, 56, 97, 47, 24, 30, 89], [174, 31, 211, 220, 227, 254, 164, 187, 43, 211], [96, 31, 72, 62, 160, 253, 161, 85, 209, 198], [75, 17, 8, 124, 181, 228, 135, 164, 254, 35], [11, 176, 172, 136, 59, 35, 147, 87, 105, 24], [181, 129, 143, 109, 244, 214, 94, 46, 70, 222], [46, 188, 90, 140, 196, 27, 55, 97, 229, 34]])\n",
      "('Are the operations arithmetically equal?', True)\n"
     ]
    }
   ],
   "source": [
    "# transpose \n",
    "transpose = matrix_transpose(mat_A)\n",
    "print (\"Result of matrix transpose:\", transpose)\n",
    "print (\"Are the operations arithmetically equal?\", np.array_equal(transpose, np.transpose(mat_A)))"
   ]
  }
 ],
 "metadata": {
  "anaconda-cloud": {},
  "kernelspec": {
   "display_name": "Python 3",
   "language": "python",
   "name": "python3"
  },
  "language_info": {
   "codemirror_mode": {
    "name": "ipython",
    "version": 3
   },
   "file_extension": ".py",
   "mimetype": "text/x-python",
   "name": "python",
   "nbconvert_exporter": "python",
   "pygments_lexer": "ipython3",
   "version": "3.6.3"
  }
 },
 "nbformat": 4,
 "nbformat_minor": 2
}
