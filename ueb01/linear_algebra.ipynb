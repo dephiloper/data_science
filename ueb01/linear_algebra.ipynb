{
 "cells": [
  {
   "cell_type": "markdown",
   "metadata": {},
   "source": [
    "# Übung Lineare Algebra (10 Punkte)\n",
    "\n",
    "Diese kleine Übung soll die grundlegenden arithmetischen Opertationen auf Vektoren und Matrizen wiederholen. Bitte implementieren Sie die notwendigen Methoden in der Datei _ak1163051/lineare_algebra.py_ auf Basis von Listen und verifizieren Sie ihre Implementierungen mit der entsprechenden _numpy_-Operation, sofern dies möglich ist im Notebook. Ein Beispiel für die Notebook imple\n"
   ]
  },
  {
   "cell_type": "code",
   "execution_count": 1,
   "metadata": {},
   "outputs": [
    {
     "name": "stdout",
     "output_type": "stream",
     "text": [
      "Vektor a:  [32, 192, 226, 235, 40, 184, 93, 16, 37, 162]\n",
      "Vektor b:  [165, 156, 206, 212, 41, 21, 168, 44, 16, 105]\n"
     ]
    }
   ],
   "source": [
    "# Initialization of basic modules and global parameters... \n",
    "from ak1163051.lineare_algebra import * \n",
    "import numpy as np\n",
    "import random\n",
    "\n",
    "# create vectors a and b with 10 digits between 0-255\n",
    "vec_a = random.sample(range(255), 10)\n",
    "vec_b = random.sample(range(255), 10)\n",
    "\n",
    "print (\"Vektor a: \", vec_a)\n",
    "print (\"Vektor b: \", vec_b)"
   ]
  },
  {
   "cell_type": "markdown",
   "metadata": {},
   "source": [
    "## Addition und Subtraktion von Vektoren\n",
    "\n",
    "Berechnen Sie Betrag und Differenz von Vektoren nach folgendem Prinzip:\n",
    "\n",
    "<img src=\"ak1163051/pics/add_vector.svg\", width=250>\n",
    "\n",
    "<img src=\"ak1163051/pics/sub_vector.svg\", width=250>"
   ]
  },
  {
   "cell_type": "code",
   "execution_count": 2,
   "metadata": {},
   "outputs": [
    {
     "name": "stdout",
     "output_type": "stream",
     "text": [
      "Result of vector addition: [197, 348, 432, 447, 81, 205, 261, 60, 53, 267]\n",
      "Are the operations arithmetically equal? True\n",
      "Result of vector subtraction: [-133, 36, 20, 23, -1, 163, -75, -28, 21, 57]\n",
      "Are the operations arithmetically equal? True\n"
     ]
    }
   ],
   "source": [
    "# addition\n",
    "add_result = vector_add(vec_a,vec_b)\n",
    "print (\"Result of vector addition:\", add_result)\n",
    "print (\"Are the operations arithmetically equal?\", np.array_equal(add_result, np.add(vec_a,vec_b)))\n",
    "\n",
    "# subtraction - please implement the methode in lineare_algebra.py \n",
    "sub_result = vector_sub(vec_a,vec_b)\n",
    "print (\"Result of vector subtraction:\", sub_result)\n",
    "print (\"Are the operations arithmetically equal?\", np.array_equal(sub_result, np.subtract(vec_a,vec_b)))"
   ]
  },
  {
   "cell_type": "markdown",
   "metadata": {
    "collapsed": true
   },
   "source": [
    "## Multiplikation von Vektoren mit einem Skalar (0,5 Punkt)\n",
    "\n",
    "Berechenen Sie die Multiplikation von einem Skalar und einem Vektoren nach folgendem Prinzip:\n",
    "\n",
    "<img src=\"ak1163051/pics/scalar_vector.svg\", width=200>"
   ]
  },
  {
   "cell_type": "code",
   "execution_count": 3,
   "metadata": {},
   "outputs": [
    {
     "name": "stdout",
     "output_type": "stream",
     "text": [
      "Result of vector multiplication: [160, 960, 1130, 1175, 200, 920, 465, 80, 185, 810]\n",
      "Are the operations arithmetically equal? True\n"
     ]
    }
   ],
   "source": [
    "# multiplication\n",
    "scalar = 5\n",
    "multiply_result = vector_scalar_mul(scalar,vec_a)\n",
    "print (\"Result of vector multiplication:\", multiply_result)\n",
    "print (\"Are the operations arithmetically equal?\", np.array_equal(multiply_result, np.multiply(scalar,vec_a)))"
   ]
  },
  {
   "cell_type": "markdown",
   "metadata": {
    "collapsed": true
   },
   "source": [
    "## Skalarprodukt (dot product) von Vektoren (1 Punkte)\n",
    "\n",
    "Berechnen Sie das Skalarprodukt von zwei Vektoren nach folgendem Prinzip:\n",
    "\n",
    "<img src=\"ak1163051/pics/inner_product_vector.svg\", width=400>"
   ]
  },
  {
   "cell_type": "code",
   "execution_count": 4,
   "metadata": {},
   "outputs": [
    {
     "name": "stdout",
     "output_type": "stream",
     "text": [
      "Result of dot product: 171042\n",
      "Are the operations arithmetically equal? True\n"
     ]
    }
   ],
   "source": [
    "# dot product \n",
    "dot_result = vector_dot(vec_a,vec_b)\n",
    "print (\"Result of dot product:\", dot_result)\n",
    "print (\"Are the operations arithmetically equal?\", np.array_equal(dot_result, np.dot(vec_a,vec_b)))"
   ]
  },
  {
   "cell_type": "markdown",
   "metadata": {},
   "source": [
    "## Erzeugen eine Matrix (1 Punkte)\n",
    "Erzuegen Sie mit Hilfe einer Methode eine Matrix mit der Dimension 10x10 von Zufallswerten zwischen 0 und 255."
   ]
  },
  {
   "cell_type": "code",
   "execution_count": 5,
   "metadata": {},
   "outputs": [
    {
     "name": "stdout",
     "output_type": "stream",
     "text": [
      "Matrix A:  [[60, 60, 205, 225, 174, 104, 110, 186, 195, 59], [223, 93, 80, 119, 30, 176, 217, 68, 204, 233], [40, 107, 171, 92, 138, 155, 246, 92, 39, 102], [250, 185, 237, 236, 9, 86, 139, 42, 246, 166], [205, 150, 100, 223, 253, 69, 204, 18, 157, 243], [146, 192, 220, 40, 214, 227, 229, 55, 179, 140], [76, 247, 210, 100, 181, 30, 143, 217, 189, 239], [143, 151, 218, 127, 98, 95, 123, 117, 78, 45], [164, 22, 112, 106, 121, 37, 66, 122, 63, 234], [76, 50, 16, 43, 227, 221, 240, 104, 160, 238]]\n",
      "10\n"
     ]
    }
   ],
   "source": [
    "mat_A = create_random_matrix(10,10)\n",
    "print (\"Matrix A: \", mat_A)\n",
    "print (len(mat_A[0]))"
   ]
  },
  {
   "cell_type": "markdown",
   "metadata": {},
   "source": [
    "## Vektor-Matrix-Multiplikation (1 Punkte)\n",
    "\n",
    "Berechnen Sie das Produkt aus Vektor a und Matrix A nach folgendem Prinzip:\n",
    "\n",
    "<img src=\"ak1163051/pics/mult_vector_matrix.svg\", width=400>\n",
    "\n",
    "Merken Sie sich, dass die Dimensionen hierfür eine Vorraussetzung bilden.\n",
    "\n",
    "<img src=\"ak1163051/pics/mult_vector_matrix_dim.png\", width=300>"
   ]
  },
  {
   "cell_type": "code",
   "execution_count": 6,
   "metadata": {},
   "outputs": [
    {
     "name": "stdout",
     "output_type": "stream",
     "text": [
      "Result of vector matrix multiplication: [168720, 171184, 158447, 218319, 197616, 202464, 196058, 157568, 119671, 143957]\n",
      "Are the operations arithmetically equal? True\n"
     ]
    }
   ],
   "source": [
    "# vector matrix multiplication\n",
    "vec_mat_mul_result = matrix_vector_mul(mat_A,vec_a)\n",
    "print (\"Result of vector matrix multiplication:\", vec_mat_mul_result)\n",
    "print (\"Are the operations arithmetically equal?\", np.array_equal(vec_mat_mul_result, np.dot(mat_A,vec_a)))"
   ]
  },
  {
   "cell_type": "markdown",
   "metadata": {},
   "source": [
    "## Transponente einer Matrix (1 Punkte)\n",
    "\n",
    "Manipulieren Sie die Matrix A, sodass die Transponente entsteht, siehe:\n",
    "    \n",
    "<img src=\"ak1163051/pics/trans_matrix_01.svg\", width=250>    \n",
    "<img src=\"ak1163051/pics/trans_matrix_02.svg\", width=250>    "
   ]
  },
  {
   "cell_type": "code",
   "execution_count": 7,
   "metadata": {},
   "outputs": [
    {
     "name": "stdout",
     "output_type": "stream",
     "text": [
      "Result of matrix transpose: [[60, 223, 40, 250, 205, 146, 76, 143, 164, 76], [60, 93, 107, 185, 150, 192, 247, 151, 22, 50], [205, 80, 171, 237, 100, 220, 210, 218, 112, 16], [225, 119, 92, 236, 223, 40, 100, 127, 106, 43], [174, 30, 138, 9, 253, 214, 181, 98, 121, 227], [104, 176, 155, 86, 69, 227, 30, 95, 37, 221], [110, 217, 246, 139, 204, 229, 143, 123, 66, 240], [186, 68, 92, 42, 18, 55, 217, 117, 122, 104], [195, 204, 39, 246, 157, 179, 189, 78, 63, 160], [59, 233, 102, 166, 243, 140, 239, 45, 234, 238]]\n",
      "Are the operations arithmetically equal? True\n"
     ]
    }
   ],
   "source": [
    "# transpose \n",
    "transpose = matrix_transpose(mat_A)\n",
    "print (\"Result of matrix transpose:\", transpose)\n",
    "print (\"Are the operations arithmetically equal?\", np.array_equal(transpose, np.transpose(mat_A)))"
   ]
  }
 ],
 "metadata": {
  "anaconda-cloud": {},
  "kernelspec": {
   "display_name": "Python 3",
   "language": "python",
   "name": "python3"
  },
  "language_info": {
   "codemirror_mode": {
    "name": "ipython",
    "version": 3
   },
   "file_extension": ".py",
   "mimetype": "text/x-python",
   "name": "python",
   "nbconvert_exporter": "python",
   "pygments_lexer": "ipython3",
   "version": "3.6.3"
  }
 },
 "nbformat": 4,
 "nbformat_minor": 2
}
